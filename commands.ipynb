{
 "cells": [
  {
   "cell_type": "markdown",
   "metadata": {},
   "source": [
    "# To run job on eidf029 or eidf107\n",
    "\n",
    "On 029:\n",
    "```bash\n",
    "JOB_SUFFIX=\"running-case-name\" QUEUE_NAME=\"informatics-user-queue\" envsubst '$USER $JOB_SUFFIX $QUEUE_NAME' < job-xxx.yaml | kubectl create -f -\n",
    "```\n",
    "\n",
    "On 107:\n",
    "```bash\n",
    "JOB_SUFFIX=\"running-case-name\" QUEUE_NAME=\"eidf107ns-user-queue\" envsubst '$USER $JOB_SUFFIX $QUEUE_NAME' < job-xxx.yaml | kubectl create -f -\n",
    "```\n",
    "\n",
    "# From Windows Powershell, push an update of the repo\n",
    "```pwsh\n",
    "git pull && git add . && git commit -m \"mod\" && git push origin main && docker build --build-arg CACHEBUST=$(Get-Date -UFormat %s) -t my_app . && docker tag my_app kaiyaoed/my_app:latest && docker push kaiyaoed/my_app:latest\n",
    "```"
   ]
  }
 ],
 "metadata": {
  "language_info": {
   "name": "python"
  }
 },
 "nbformat": 4,
 "nbformat_minor": 2
}
